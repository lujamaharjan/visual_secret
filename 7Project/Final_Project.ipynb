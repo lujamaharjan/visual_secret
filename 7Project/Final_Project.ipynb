{
 "cells": [
  {
   "cell_type": "markdown",
   "metadata": {},
   "source": [
    "# Program to demonstrated Adi Shamir's vss and Ceaser Cipher for image encryption"
   ]
  },
  {
   "cell_type": "code",
   "execution_count": 4,
   "metadata": {},
   "outputs": [],
   "source": [
    "# Required Modules\n",
    "\n",
    "from PIL import Image\n",
    "from numpy import array, size\n",
    "import math\n"
   ]
  },
  {
   "cell_type": "code",
   "execution_count": 5,
   "metadata": {},
   "outputs": [],
   "source": [
    "# Configuration Variables\n",
    "\n",
    "total_Shares = 7\n",
    "threshold = 5\n",
    "xor_key = 87\n",
    "list_of_cofficient = [3,5,7,11,13,17,19,23]"
   ]
  },
  {
   "cell_type": "code",
   "execution_count": 6,
   "metadata": {},
   "outputs": [],
   "source": [
    "# function to chnage image to numpy array (Matrix)\n",
    "def changeImageToMatrix(imagename):\n",
    "    img = Image.open(imagename)\n",
    "    image_as_array = array(img)\n",
    "    return image_as_array"
   ]
  },
  {
   "cell_type": "code",
   "execution_count": 7,
   "metadata": {},
   "outputs": [],
   "source": [
    "# function to encrypt the single color value of each pixel\n",
    "def encryption(pixel):\n",
    "    epixels = list() # for sotring the shares\n",
    "    for i in range(total_Shares):\n",
    "        temp = pixel\n",
    "        for j in range(1, threshold):\n",
    "            temp = temp + list_of_cofficient[j-1] * int(math.pow(i+1, j))\n",
    "            \n",
    "        epixels.append((temp) ^ xor_key)\n",
    "    return epixels"
   ]
  },
  {
   "cell_type": "code",
   "execution_count": 8,
   "metadata": {},
   "outputs": [],
   "source": [
    "# function to decryt the images to original image\n",
    "def decryption(epixel):\n",
    "    result = map(lambda x: x ^ xor_key,epixel)\n",
    "    result = list(result)\n",
    "    dpixel = 0\n",
    "    for i in range(1, threshold + 1):\n",
    "        li = 1\n",
    "        for j in range (1, threshold + 1):\n",
    "            if i != j:\n",
    "                li = li * (-j/(i-j))\n",
    "                \n",
    "        dpixel = dpixel + result[i-1] * li\n",
    "    return dpixel"
   ]
  },
  {
   "cell_type": "code",
   "execution_count": 9,
   "metadata": {},
   "outputs": [],
   "source": [
    "# code for generating the share\n",
    "image = changeImageToMatrix('./literature/team_9.jpg')\n",
    "image = list(image)\n",
    "encrypted_images = list()\n",
    "for b in range(total_Shares):\n",
    "    encrypted_images.append(image)\n",
    "encrypted_images = array(encrypted_images)\n",
    "\n",
    "for i in range(len(image)):\n",
    "    for j in range(len(image[i])):\n",
    "        for k in range(len(image[i][j])):\n",
    "            encrypt = encryption(image[i][j][k])\n",
    "            for b in range(total_Shares):\n",
    "                encrypted_images[b][i][j][k] = encrypt[b]\n",
    "                \n",
    "                \n",
    "# displaying the encrypted image\n",
    "for b in range(total_Shares):\n",
    "    encrypted_images[b] = array(encrypted_images[b])\n",
    "    Image.fromarray(encrypted_images[b], 'RGB').show()"
   ]
  },
  {
   "cell_type": "code",
   "execution_count": 10,
   "metadata": {},
   "outputs": [],
   "source": [
    "# code for generating the original image from share\n",
    "decrypted_image = array(image)\n",
    "for i in range(len(image)):\n",
    "    for j in range(len(image[i])):\n",
    "        for k in range(len(image[i][j])):\n",
    "            row = []\n",
    "            for b in range(threshold):\n",
    "                row.append(encrypted_images[b][i][j][k])\n",
    "            colorpixel = decryption(row)\n",
    "        decrypted_image[i][j][k] = colorpixel\n",
    "        \n",
    "        \n",
    "Image.fromarray(decrypted_image,\"RGB\").show()"
   ]
  },
  {
   "cell_type": "markdown",
   "metadata": {},
   "source": [
    "# Calculating NPCR"
   ]
  },
  {
   "cell_type": "code",
   "execution_count": 11,
   "metadata": {},
   "outputs": [
    {
     "name": "stdout",
     "output_type": "stream",
     "text": [
      "NPCR :  100.0\n"
     ]
    }
   ],
   "source": [
    "m = size(array(image), axis=0)\n",
    "n = size(array(image), axis=1)\n",
    "\n",
    "d = 0\n",
    "for i in range(len(image)):\n",
    "    for j in range(len(image[i])):\n",
    "        if list(image[i][j]) != list(encrypted_images[1][i][j]):\n",
    "            d += 1\n",
    "npixel_change = (d / (m * n)) * 100\n",
    "print(\"NPCR : \",npixel_change)"
   ]
  },
  {
   "cell_type": "markdown",
   "metadata": {},
   "source": [
    "# Calculating UACI"
   ]
  },
  {
   "cell_type": "code",
   "execution_count": 12,
   "metadata": {},
   "outputs": [
    {
     "name": "stderr",
     "output_type": "stream",
     "text": [
      "<ipython-input-12-34b6b389275f>:8: RuntimeWarning: overflow encountered in ubyte_scalars\n",
      "  total_diff = total_diff + (original_image[i][j][k] - encrypted_images[3][i][j][k])\n"
     ]
    },
    {
     "name": "stdout",
     "output_type": "stream",
     "text": [
      "UACI :  61.151292699171606\n"
     ]
    }
   ],
   "source": [
    "m = size(image, axis=0)\n",
    "n = size(image, axis=1)\n",
    "original_image = array(image)\n",
    "total_diff = 0\n",
    "for i in range(len(image)):\n",
    "    for j in range(len(image[i])):\n",
    "        for k in range(len(image[i][j])):\n",
    "            total_diff = total_diff + (original_image[i][j][k] - encrypted_images[3][i][j][k])\n",
    "\n",
    "\n",
    "# f= 257, t = M *N, c = 3 s\n",
    "diff_intensity = (total_diff/257) * (100 / (m * n * 3))\n",
    "print(\"UACI : \", diff_intensity)\n"
   ]
  },
  {
   "cell_type": "markdown",
   "metadata": {},
   "source": [
    "# Program to demonstrate Ceaser Cipher Encryption of image encryption"
   ]
  },
  {
   "cell_type": "code",
   "execution_count": 13,
   "metadata": {},
   "outputs": [],
   "source": [
    "# configurariton variable\n",
    "key = 5\n",
    "\n",
    "def cencryption(pixel):\n",
    "    return (pixel + key)\n",
    "\n",
    "def cdecryption(pixel):\n",
    "    return pixel - key"
   ]
  },
  {
   "cell_type": "markdown",
   "metadata": {},
   "source": [
    "Ceaser Cipher Encryption"
   ]
  },
  {
   "cell_type": "code",
   "execution_count": 14,
   "metadata": {},
   "outputs": [
    {
     "name": "stdout",
     "output_type": "stream",
     "text": [
      "Encrypted Image\n"
     ]
    }
   ],
   "source": [
    "image = changeImageToMatrix('./literature/test.jpg')\n",
    "image  = list(image)\n",
    "encrypted_image = array(image)\n",
    "for i in range(len(image)):\n",
    "    for j in range(len(image[i])):\n",
    "        for k in range(len(image[i][j])):\n",
    "            encrypted_image[i][j][k] = cencryption(image[i][j][k])\n",
    "print(\"Encrypted Image\")\n",
    "Image.fromarray(encrypted_image,\"RGB\").show()"
   ]
  },
  {
   "cell_type": "markdown",
   "metadata": {},
   "source": [
    "Ceaser cipher Decryption"
   ]
  },
  {
   "cell_type": "code",
   "execution_count": 60,
   "metadata": {},
   "outputs": [
    {
     "name": "stdout",
     "output_type": "stream",
     "text": [
      "Decrypted Image\n"
     ]
    }
   ],
   "source": [
    "decrypted_image = array(image)\n",
    "for i in range(len(image)):\n",
    "    for j in range(len(image[i])):\n",
    "        for k in range(len(image[i][j])):\n",
    "            decrypted_image[i][j][k] = cdecryption(encrypted_image[i][j][k])\n",
    "\n",
    "print(\"Decrypted Image\")\n",
    "Image.fromarray(decrypted_image,\"RGB\").show()"
   ]
  },
  {
   "cell_type": "markdown",
   "metadata": {},
   "source": [
    "NPCR for ceaser  cipher"
   ]
  },
  {
   "cell_type": "code",
   "execution_count": 61,
   "metadata": {},
   "outputs": [
    {
     "name": "stdout",
     "output_type": "stream",
     "text": [
      "NPCR :  100.0\n"
     ]
    }
   ],
   "source": [
    "m = size(array(image), axis=0)\n",
    "n = size(array(image), axis=1)\n",
    "\n",
    "d = 0\n",
    "for i in range(len(image)):\n",
    "    for j in range(len(image[i])):\n",
    "        if list(image[i][j]) != list(encrypted_image[i][j]):\n",
    "            d += 1\n",
    "npixel_change = (d / (m * n)) * 100\n",
    "print(\"NPCR : \",npixel_change)"
   ]
  },
  {
   "cell_type": "markdown",
   "metadata": {},
   "source": [
    "UACI for ceaser cipher"
   ]
  },
  {
   "cell_type": "code",
   "execution_count": 62,
   "metadata": {},
   "outputs": [
    {
     "name": "stderr",
     "output_type": "stream",
     "text": [
      "<ipython-input-62-d3852c77447f>:8: RuntimeWarning: overflow encountered in ubyte_scalars\n",
      "  total_diff = total_diff + (original_image[i][j][k] - encrypted_image[i][j][k])\n"
     ]
    },
    {
     "name": "stdout",
     "output_type": "stream",
     "text": [
      "UACI :  97.66536964980546\n"
     ]
    }
   ],
   "source": [
    "m = size(decrypted_image, axis=0)\n",
    "n = size(decrypted_image, axis=1)\n",
    "original_image = array(image)\n",
    "total_diff = 0\n",
    "for i in range(len(image)):\n",
    "    for j in range(len(image[i])):\n",
    "        for k in range(len(image[i][j])):\n",
    "            total_diff = total_diff + (original_image[i][j][k] - encrypted_image[i][j][k])\n",
    "\n",
    "\n",
    "# f= 256, t = M *N, c = 3 s\n",
    "diff_intensity = (total_diff/257) * (100 / (m * n * 3))\n",
    "print(\"UACI : \", diff_intensity)"
   ]
  }
 ],
 "metadata": {
  "kernelspec": {
   "display_name": "Python 3",
   "language": "python",
   "name": "python3"
  },
  "language_info": {
   "codemirror_mode": {
    "name": "ipython",
    "version": 3
   },
   "file_extension": ".py",
   "mimetype": "text/x-python",
   "name": "python",
   "nbconvert_exporter": "python",
   "pygments_lexer": "ipython3",
   "version": "3.8.3"
  }
 },
 "nbformat": 4,
 "nbformat_minor": 4
}
